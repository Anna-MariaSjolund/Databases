{
 "cells": [
  {
   "cell_type": "code",
   "execution_count": 1,
   "metadata": {},
   "outputs": [],
   "source": [
    "import sqlalchemy as db\n",
    "from sqlalchemy import create_engine\n",
    "from sqlalchemy.engine import URL\n",
    "from urllib.parse import unquote\n",
    "import pyodbc\n",
    "from sqlalchemy import text\n",
    "import pandas as pd"
   ]
  },
  {
   "cell_type": "code",
   "execution_count": 2,
   "metadata": {},
   "outputs": [
    {
     "name": "stdout",
     "output_type": "stream",
     "text": [
      "Connecting to database using URL string:\n",
      "mssql+pyodbc://?odbc_connect=DRIVER=ODBC+Driver+17+for+SQL+Server;SERVER=localhost;DATABASE=bookstore;uid=bookstoreUser;pwd=veryStrongPassword6293042 \n",
      "\n",
      "Successfully connected to bookstore!\n"
     ]
    }
   ],
   "source": [
    "server_name   = \"localhost\"\n",
    "database_name = \"bookstore\"\n",
    "\n",
    "connection_string = f\"DRIVER=ODBC Driver 17 for SQL Server;SERVER={server_name};DATABASE={database_name};uid=bookstoreUser;pwd=veryStrongPassword6293042\"\n",
    "url_string        = URL.create(\"mssql+pyodbc\", query={\"odbc_connect\": connection_string})\n",
    "\n",
    "print('Connecting to database using URL string:')\n",
    "unquoted_url = unquote(str(url_string))\n",
    "print(unquoted_url, '\\n')\n",
    "\n",
    "try:    \n",
    "    engine = create_engine(url_string)\n",
    "    with engine.connect() as connection:\n",
    "        print(f'Successfully connected to {database_name}!')\n",
    "except Exception as e:\n",
    "    print('Error while connecting to database:\\n')\n",
    "    print(e)"
   ]
  },
  {
   "cell_type": "code",
   "execution_count": 9,
   "metadata": {},
   "outputs": [],
   "source": [
    "inputed_title = input(\"Enter book title.\")"
   ]
  },
  {
   "cell_type": "code",
   "execution_count": 11,
   "metadata": {},
   "outputs": [
    {
     "data": {
      "text/html": [
       "<div>\n",
       "<style scoped>\n",
       "    .dataframe tbody tr th:only-of-type {\n",
       "        vertical-align: middle;\n",
       "    }\n",
       "\n",
       "    .dataframe tbody tr th {\n",
       "        vertical-align: top;\n",
       "    }\n",
       "\n",
       "    .dataframe thead th {\n",
       "        text-align: right;\n",
       "    }\n",
       "</style>\n",
       "<table border=\"1\" class=\"dataframe\">\n",
       "  <thead>\n",
       "    <tr style=\"text-align: right;\">\n",
       "      <th></th>\n",
       "      <th>ISBN13</th>\n",
       "      <th>Title</th>\n",
       "      <th>Name</th>\n",
       "      <th>NumberInStock</th>\n",
       "    </tr>\n",
       "  </thead>\n",
       "  <tbody>\n",
       "    <tr>\n",
       "      <th>0</th>\n",
       "      <td>978-0-14-104034-9</td>\n",
       "      <td>Pride and Prejudice</td>\n",
       "      <td>Paige Turner's Bookstore Bokgatan</td>\n",
       "      <td>65</td>\n",
       "    </tr>\n",
       "    <tr>\n",
       "      <th>1</th>\n",
       "      <td>978-0-14-104034-9</td>\n",
       "      <td>Pride and Prejudice</td>\n",
       "      <td>Paige Turner's Bookstore Författaravenyn</td>\n",
       "      <td>39</td>\n",
       "    </tr>\n",
       "    <tr>\n",
       "      <th>2</th>\n",
       "      <td>978-0-14-104034-9</td>\n",
       "      <td>Pride and Prejudice</td>\n",
       "      <td>Paige Turner's Bookstore Online</td>\n",
       "      <td>602</td>\n",
       "    </tr>\n",
       "  </tbody>\n",
       "</table>\n",
       "</div>"
      ],
      "text/plain": [
       "              ISBN13                Title  \\\n",
       "0  978-0-14-104034-9  Pride and Prejudice   \n",
       "1  978-0-14-104034-9  Pride and Prejudice   \n",
       "2  978-0-14-104034-9  Pride and Prejudice   \n",
       "\n",
       "                                       Name  NumberInStock  \n",
       "0         Paige Turner's Bookstore Bokgatan             65  \n",
       "1  Paige Turner's Bookstore Författaravenyn             39  \n",
       "2           Paige Turner's Bookstore Online            602  "
      ]
     },
     "execution_count": 11,
     "metadata": {},
     "output_type": "execute_result"
    }
   ],
   "source": [
    "with engine.connect() as conn: \n",
    "    \n",
    "    metadata = db.MetaData()\n",
    "    books = db.Table('Books', metadata, autoload=True, autoload_with=engine)\n",
    "    stock = db.Table('Stock', metadata, autoload=True, autoload_with=engine)\n",
    "    stores = db.Table('Stores', metadata, autoload=True, autoload_with=engine)\n",
    "\n",
    "    search = \"%{}%\".format(inputed_title)\n",
    "\n",
    "    query = db.select([books.columns.ISBN13, \n",
    "                       books.columns.Title, \n",
    "                       stores.columns.Name, \n",
    "                       stock.columns.NumberInStock]).filter(books.columns.Title.like(search)).join(stock, books.columns.ISBN13 == stock.columns.ISBN13).join(stores, stock.columns.StoreID == stores.columns.ID)\n",
    "\n",
    "    ResultProxy = conn.execute(query)\n",
    "    ResultSet = pd.DataFrame(ResultProxy.fetchall())\n",
    "    \n",
    "ResultSet"
   ]
  }
 ],
 "metadata": {
  "kernelspec": {
   "display_name": "Python 3.9.10 ('Databases-11XCYkq8')",
   "language": "python",
   "name": "python3"
  },
  "language_info": {
   "codemirror_mode": {
    "name": "ipython",
    "version": 3
   },
   "file_extension": ".py",
   "mimetype": "text/x-python",
   "name": "python",
   "nbconvert_exporter": "python",
   "pygments_lexer": "ipython3",
   "version": "3.9.10"
  },
  "orig_nbformat": 4,
  "vscode": {
   "interpreter": {
    "hash": "e6d23e15d596048dbd1fa4236e3466d3c926049100b797af3a8a1b91bfca0f29"
   }
  }
 },
 "nbformat": 4,
 "nbformat_minor": 2
}
